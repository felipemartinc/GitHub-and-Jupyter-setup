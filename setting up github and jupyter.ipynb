{
 "cells": [
  {
   "cell_type": "markdown",
   "metadata": {},
   "source": [
    "# Intro to Human-Centered Data Science\n",
    "## Setting up GitHub and JupyterHub\n",
    "If you're reading this, you successfully forked the Git repo for this assignment from GitHub. Congratulations! \n",
    "Now that you've done that, you can see the first Jupyter Notebook for the class. To continue the assignment, let's do a few things with the notebook that we'll often see in data science tasks.  \n",
    "But first, let's take a look at the Notebook itself. One of many great things about Jupyter Notebooks is that we can combine text, programming code, and visualizations in the same file. "
   ]
  },
  {
   "cell_type": "markdown",
   "metadata": {},
   "source": [
    "### Markdown\n",
    "The text you're reading now is in a format called [Markdown](https://www.markdownguide.org). Markdown is a simple language that lets you add formatting to plain text documents. You're used to formatting text by clicking on words or phrases and then selecting a format, e.g., bold, italic, Header, etc. In Markdown, you don't do apply formats this way: Instead, we add special codes to the text to specify the way it should appear.`\n",
    "\n",
    "For example, the first line in this document is a heading. To make it appear large, we add a number sign before (e.g., `# Intro to Human-Centered Data Science`). You can make _italicized_ by adding an asterisk or underscore before and after it (e.g.,  `_Jupyter Notebooks are great!_`). Want text in **bold**? Add two asterisks before and after the text (e.g., `**my bold text**`).  \n",
    "\n",
    "A Jupyter Notebook cell can be set to edit and display text with Markdown formats. It's a useful way to add documentation to your project with all the benefits of formatted text. [Here's](https://www.markdownguide.org/cheat-sheet/) a useful cheatsheet that describes all the Markdown syntax. Let's practice using some of the codes you'll use often.    \n"
   ]
  },
  {
   "cell_type": "markdown",
   "metadata": {},
   "source": [
    "Using the [cheat sheet](https://www.markdownguide.org/cheat-sheet/) as a guide, write a short piece of text introducing yourself below adding the following formatting in Markdown:\n",
    "1) Include a *heading* with your name.\n",
    "2) Tell us where you did your undergraduate degree. Format the university in **bold** and *italicize* your major.\n",
    "3) Tell is why you decided to studay data science. Highlight your response using as a *blockquote*\n",
    "3) Name three of your hobbies using a *numbered* list.\n",
    "4) Provide the name of a web site that you often visit and include a *hyperlink* to that site. "
   ]
  },
  {
   "cell_type": "markdown",
   "metadata": {},
   "source": [
    "### ENTER YOUR TEXT WITH MARKDOWN HERE  \n"
   ]
  },
  {
   "cell_type": "markdown",
   "metadata": {},
   "source": [
    "### Importing Python libraries\n",
    "We learned earlier that the Python programming language has many libraries that provide useful tools for free. We use a Python command called `import` to include a library in a Notebook. For example, the statement `import math` will make Python's math library available in our Notebook. The library lives in what is called a _module_. Think of it as a container filled with lots of math functions and constants. We have use what's called _dot notation_ to access the functions inside the module. Look at the code below for an example:\n"
   ]
  },
  {
   "cell_type": "code",
   "execution_count": 1,
   "metadata": {},
   "outputs": [
    {
     "name": "stdout",
     "output_type": "stream",
     "text": [
      "<module 'math' from '/opt/tljh/user/lib/python3.10/lib-dynload/math.cpython-310-x86_64-linux-gnu.so'>\n"
     ]
    }
   ],
   "source": [
    "import math\n",
    "print(math)"
   ]
  },
  {
   "cell_type": "markdown",
   "metadata": {},
   "source": [
    "We used `import` to bring the math library into our Notebook. When we print math, we see its type identifier. Don't worry too much about this except to note that it is a module. Now let's access the content `pi` within the module."
   ]
  },
  {
   "cell_type": "code",
   "execution_count": 5,
   "metadata": {},
   "outputs": [
    {
     "name": "stdout",
     "output_type": "stream",
     "text": [
      "3.141592653589793\n"
     ]
    }
   ],
   "source": [
    "print(math.pi)"
   ]
  },
  {
   "cell_type": "markdown",
   "metadata": {},
   "source": [
    "There's the dot notation. We write `math.pi` to access the constant value 3.14. What happens if we try to ask for pi _without_ the math module? "
   ]
  },
  {
   "cell_type": "code",
   "execution_count": 6,
   "metadata": {},
   "outputs": [
    {
     "ename": "NameError",
     "evalue": "name 'pi' is not defined",
     "output_type": "error",
     "traceback": [
      "\u001b[0;31m---------------------------------------------------------------------------\u001b[0m",
      "\u001b[0;31mNameError\u001b[0m                                 Traceback (most recent call last)",
      "Cell \u001b[0;32mIn[6], line 1\u001b[0m\n\u001b[0;32m----> 1\u001b[0m \u001b[38;5;28mprint\u001b[39m(\u001b[43mpi\u001b[49m)\n",
      "\u001b[0;31mNameError\u001b[0m: name 'pi' is not defined"
     ]
    }
   ],
   "source": [
    "print(pi)"
   ]
  },
  {
   "cell_type": "markdown",
   "metadata": {},
   "source": [
    "Look at all of that text in the red box: That's Python's way of signaling an error. As you can guess, 'pi' is undefined. But `math.pi` is defined and ours to use once we import math. In fact, we can call lots of math functions using dot notation:"
   ]
  },
  {
   "cell_type": "code",
   "execution_count": 15,
   "metadata": {},
   "outputs": [
    {
     "name": "stdout",
     "output_type": "stream",
     "text": [
      "The factorial of 5 is = 120\n",
      "90 degrees in radians = 1.5707963267948966\n",
      "The sine of 90 degrees = 1.0\n",
      "We can represent non-numbers with nan\n"
     ]
    }
   ],
   "source": [
    "print(f\"The factorial of 5 is = {math.factorial(5)}\")\n",
    "print(f\"90 degrees in radians = {math.radians(90)}\")\n",
    "print(f\"The sine of 90 degrees = {math.sin(math.radians(90))}\")\n",
    "print(f\"We can represent non-numbers with {math.nan}\")"
   ]
  },
  {
   "cell_type": "markdown",
   "metadata": {},
   "source": [
    "Don't worry too much about the actual math. The important thing to note here is we import libraries as modules, and we access things inside of them with `<module_name.function_or_constant_name>`.  \n",
    "Sometimes we only want to import a few functions or constants from a library. As an example, imagine we only need the constant `pi` and the function `pow` from the math library. We can do the following to just get those two:"
   ]
  },
  {
   "cell_type": "code",
   "execution_count": 16,
   "metadata": {},
   "outputs": [
    {
     "name": "stdout",
     "output_type": "stream",
     "text": [
      "3.141592653589793\n",
      "2 to the 5th power = 32.0\n"
     ]
    }
   ],
   "source": [
    "from math import pi, pow\n",
    "print(pi)\n",
    "print(f\"2 to the 5th power = {pow(2,5)}\")"
   ]
  },
  {
   "cell_type": "code",
   "execution_count": null,
   "metadata": {},
   "outputs": [],
   "source": []
  }
 ],
 "metadata": {
  "kernelspec": {
   "display_name": "Python 3 (ipykernel)",
   "language": "python",
   "name": "python3"
  },
  "language_info": {
   "codemirror_mode": {
    "name": "ipython",
    "version": 3
   },
   "file_extension": ".py",
   "mimetype": "text/x-python",
   "name": "python",
   "nbconvert_exporter": "python",
   "pygments_lexer": "ipython3",
   "version": "3.10.10"
  }
 },
 "nbformat": 4,
 "nbformat_minor": 4
}
